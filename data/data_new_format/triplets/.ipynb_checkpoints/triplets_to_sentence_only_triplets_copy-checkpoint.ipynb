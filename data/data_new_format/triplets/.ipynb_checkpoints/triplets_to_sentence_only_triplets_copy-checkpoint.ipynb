{
 "cells": [
  {
   "cell_type": "markdown",
   "id": "afe2c7b3-ccd1-4b30-bffc-c088f680f56a",
   "metadata": {},
   "source": [
    "# Setup"
   ]
  },
  {
   "cell_type": "code",
   "execution_count": null,
   "id": "db3cc11e-2ed0-4de6-87de-129f132cb1b9",
   "metadata": {
    "tags": []
   },
   "outputs": [],
   "source": [
    "import sys\n",
    "sys.path.append('/cs/labs/tomhope/taltatal/aspire')       \n",
    "import utils.envsetup\n",
    "import pickle\n",
    "import tqdm\n",
    "import torch"
   ]
  },
  {
   "cell_type": "code",
   "execution_count": null,
   "id": "f39027aa-5e5b-4002-a567-24bdc8356968",
   "metadata": {
    "tags": []
   },
   "outputs": [],
   "source": [
    "from transformers import AutoModel, AutoTokenizer\n",
    "\n",
    "aspire_sent = AutoModel.from_pretrained('allenai/aspire-sentence-embedder')\n",
    "aspire_tok = AutoTokenizer.from_pretrained('allenai/aspire-sentence-embedder')\n",
    "\n",
    "def apply_sent_bert(sents):\n",
    "    inputs = aspire_tok(sents, padding=True, truncation=True, return_tensors=\"pt\", max_length=512)\n",
    "\n",
    "    result = aspire_sent(**inputs)\n",
    "\n",
    "    clsrep = result.last_hidden_state[:,0,:]\n",
    "    \n",
    "    return clsrep"
   ]
  },
  {
   "cell_type": "code",
   "execution_count": null,
   "id": "c1133967-8247-48f3-abb9-037bb10020a3",
   "metadata": {
    "tags": []
   },
   "outputs": [],
   "source": [
    "def remove_irrelevant_sentences_from_data(sentences):\n",
    "    # Created in order to assure quality of train couples\n",
    "    cond = lambda s: True # len(s) > 8 and len(s.split(\" \")) > 1\n",
    "    return [s for s in sentences if cond(s)]"
   ]
  },
  {
   "cell_type": "code",
   "execution_count": null,
   "id": "48af2992-88d5-49da-ac3b-7c251f8b84c1",
   "metadata": {
    "tags": []
   },
   "outputs": [],
   "source": [
    "def triplets_to_sentence_only(triplets):\n",
    "    triplets_sentence_only = []\n",
    "    for triplet in tqdm.tqdm(triplets):\n",
    "        # generate embeddings\n",
    "        topic, pos, neg = triplet[0]['ABSTRACT'], triplet[1]['ABSTRACT'], triplet[2]['ABSTRACT']\n",
    "        topic = remove_irrelevant_sentences_from_data(topic)\n",
    "        pos = remove_irrelevant_sentences_from_data(pos)\n",
    "        neg = remove_irrelevant_sentences_from_data(neg)\n",
    "\n",
    "        # IMPORTANT!!! I CHANGED THE CO-CITATION-CONTEXT INTO \"TITLE + CO-CITATION-CONTEXT\"\n",
    "        co_citation_context = triplet[0][\"TITLE\"] + \" \" + triplet[0][\"CO-CITATION-CONTEXT\"]\n",
    "        topic_embed, pos_embed, neg_embed, context_embed = apply_sent_bert(topic), apply_sent_bert(pos), apply_sent_bert(neg), apply_sent_bert(co_citation_context)\n",
    "\n",
    "        # create sentence-only triplet\n",
    "        triplet_sentence_only = []\n",
    "        for sentences, embedding in zip([topic, pos, neg], [topic_embed, pos_embed, neg_embed]):\n",
    "            distance_embedding_context = torch.squeeze(torch.cdist(embedding, context_embed, p=2.0), 1)\n",
    "            argmin = torch.argmin(distance_embedding_context)\n",
    "            triplet_sentence_only.append(sentences[argmin])\n",
    "        triplets_sentence_only.append(tuple(triplet_sentence_only))\n",
    "    return triplets_sentence_only"
   ]
  },
  {
   "cell_type": "markdown",
   "id": "154515f4-be24-40e8-8a8f-2817c3742260",
   "metadata": {},
   "source": [
    "# test"
   ]
  },
  {
   "cell_type": "code",
   "execution_count": null,
   "id": "c3f78c21-fc8b-4f62-b196-93433fbb4a1c",
   "metadata": {
    "tags": []
   },
   "outputs": [],
   "source": [
    "# with open(\"test_triplets.pkl\", \"rb\") as file:\n",
    "#     test_triplets = pickle.load(file)"
   ]
  },
  {
   "cell_type": "code",
   "execution_count": null,
   "id": "2c14088f-a576-4444-aee9-c7243aa0c29a",
   "metadata": {
    "tags": []
   },
   "outputs": [],
   "source": [
    "# test_triplets_sentence_only = triplets_to_sentence_only(test_triplets)"
   ]
  },
  {
   "cell_type": "code",
   "execution_count": null,
   "id": "adfff5a3-ef8c-42b2-abaf-5df364605587",
   "metadata": {
    "tags": []
   },
   "outputs": [],
   "source": [
    "# with open(\"test_triplets_sentence_only.pkl\", \"wb\") as file:\n",
    "#     pickle.dump(test_triplets_sentence_only, file)"
   ]
  },
  {
   "cell_type": "markdown",
   "id": "51f8074b-35c2-448f-9be0-234fa2d5ba6b",
   "metadata": {},
   "source": [
    "# train"
   ]
  },
  {
   "cell_type": "code",
   "execution_count": null,
   "id": "3e24031d-0e5c-4cde-b9ca-2eabef45795a",
   "metadata": {},
   "outputs": [],
   "source": [
    "with open(\"train_triplets.pkl\", \"rb\") as file:\n",
    "    train_triplets = pickle.load(file)"
   ]
  },
  {
   "cell_type": "code",
   "execution_count": null,
   "id": "21c0bb2c-4e8a-4e8a-81af-40cd6a0747c2",
   "metadata": {},
   "outputs": [],
   "source": [
    "train_triplets_sentence_only = triplets_to_sentence_only(train_triplets)"
   ]
  },
  {
   "cell_type": "code",
   "execution_count": null,
   "id": "a658f18a-78f1-44b1-bd68-c2520f780211",
   "metadata": {},
   "outputs": [],
   "source": [
    "with open(\"train_triplets_sentence_only.pkl\", \"wb\") as file:\n",
    "    pickle.dump(train_triplets_sentence_only, file)"
   ]
  }
 ],
 "metadata": {
  "kernelspec": {
   "display_name": "Python 3",
   "language": "python",
   "name": "python3"
  },
  "language_info": {
   "codemirror_mode": {
    "name": "ipython",
    "version": 3
   },
   "file_extension": ".py",
   "mimetype": "text/x-python",
   "name": "python",
   "nbconvert_exporter": "python",
   "pygments_lexer": "ipython3",
   "version": "3.8.16"
  }
 },
 "nbformat": 4,
 "nbformat_minor": 5
}
