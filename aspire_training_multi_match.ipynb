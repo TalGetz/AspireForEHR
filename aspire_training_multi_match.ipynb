{
 "cells": [
  {
   "cell_type": "markdown",
   "id": "6321d045-ba35-4316-b9c5-907bb1c20dd2",
   "metadata": {
    "tags": []
   },
   "source": [
    "# Setup"
   ]
  },
  {
   "cell_type": "code",
   "execution_count": 189,
   "id": "a1730c6a-b4c2-4889-94f0-a4144817d472",
   "metadata": {
    "tags": []
   },
   "outputs": [],
   "source": [
    "single_match=False"
   ]
  },
  {
   "cell_type": "code",
   "execution_count": 2,
   "id": "9600c8e9-f8bd-4c05-bde5-355db9db6dea",
   "metadata": {
    "tags": []
   },
   "outputs": [],
   "source": [
    "import os\n",
    "import utils.envsetup\n",
    "os.environ['CUDA_LAUNCH_BLOCKING'] = '1'"
   ]
  },
  {
   "cell_type": "code",
   "execution_count": 3,
   "id": "a5f1887c-dc9e-41d1-925b-42294e2ced97",
   "metadata": {
    "tags": []
   },
   "outputs": [],
   "source": [
    "from transformers import AutoTokenizer\n",
    "\n",
    "if single_match:\n",
    "    from utils.ex_aspire_consent import AspireConSent, prepare_abstracts\n",
    "else:\n",
    "    from utils.ex_aspire_consent_multimatch import AspireConSent, AllPairMaskedWasserstein\n",
    "    from utils.ex_aspire_consent_multimatch import prepare_abstracts\n",
    "\n",
    "import time\n",
    "import tqdm\n",
    "import torch\n",
    "import torch.nn.functional as F\n",
    "\n",
    "device = torch.device('cuda:0' if torch.cuda.is_available() else 'cpu')\n",
    "# device = torch.device('cpu')"
   ]
  },
  {
   "cell_type": "markdown",
   "id": "a0727cef-89d6-4b56-9668-76b91a8d1e5d",
   "metadata": {
    "tags": []
   },
   "source": [
    "# Dataset Setup"
   ]
  },
  {
   "cell_type": "code",
   "execution_count": 4,
   "id": "5d6ead63-9ef6-4030-974c-27ab2ce79520",
   "metadata": {},
   "outputs": [],
   "source": [
    "from collections import namedtuple\n",
    "from data.pmc_iterable import PMCIterable\n",
    "from data.topic_iterable import TopicIterable\n",
    "import pickle\n",
    "import torch\n",
    "from torch.utils.data import DataLoader\n",
    "from utils.doc_abstract_to_sentence_list_transform import DocAbstractToSentenceListTransform"
   ]
  },
  {
   "cell_type": "code",
   "execution_count": 5,
   "id": "bf7b6107-064a-468b-8148-fb18854bc3fa",
   "metadata": {
    "tags": []
   },
   "outputs": [],
   "source": [
    "pmc_ids = pickle.load(open('data/data_old_format/pmc_ids.pkl', 'rb'))\n",
    "\n",
    "topics_trainloader = DataLoader(TopicIterable(format='aspire', train=True, topic_file_name='data/data_old_format/topics.pkl',\n",
    "                                             transform=DocAbstractToSentenceListTransform()), batch_size=1,\n",
    "                               collate_fn=lambda x: x)\n",
    "\n",
    "topics_trainloader = sorted([x for x in topics_trainloader], key=lambda x: int(x[0]['ID']))\n",
    "\n",
    "topics_testloader = DataLoader(TopicIterable(format='aspire', test=True, topic_file_name='data/data_old_format/topics.pkl',\n",
    "                                             transform=DocAbstractToSentenceListTransform()), batch_size=1,\n",
    "                               collate_fn=lambda x: x)\n",
    "\n",
    "topics_testloader = sorted([x for x in topics_testloader], key=lambda x: int(x[0]['ID']))"
   ]
  },
  {
   "cell_type": "code",
   "execution_count": 6,
   "id": "3a5b7104-021a-414c-864d-6dea9674bc6d",
   "metadata": {
    "tags": []
   },
   "outputs": [],
   "source": [
    "import pickle\n",
    "with open(\"data/data_old_format/labels_dict.pkl\", 'rb') as file:\n",
    "    labelled_article_ids_pickle = pickle.load(file)\n",
    "\n",
    "labelled_article_ids = {}\n",
    "for key in labelled_article_ids_pickle.keys():\n",
    "    positive = [k for k,v in labelled_article_ids_pickle[key].items() if v in ['1','2']]\n",
    "    negative = [k for k,v in labelled_article_ids_pickle[key].items() if v == '0']\n",
    "    labelled_article_ids[key] = {\"POSITIVE\": positive, \"NEGATIVE\": negative}"
   ]
  },
  {
   "cell_type": "code",
   "execution_count": 7,
   "id": "cd199e55-160c-4122-843c-570945a9992c",
   "metadata": {
    "tags": []
   },
   "outputs": [],
   "source": [
    "import pickle\n",
    "import os\n",
    "exists = False\n",
    "if os.path.exists(\"data/data_new_format/triplets/train_triplets.pkl\") and os.path.exists(\"data/data_new_format/triplets/test_triplets.pkl\"):\n",
    "    with open(\"data/data_new_format/triplets/train_triplets.pkl\", \"rb\") as file:\n",
    "        train_triplets = pickle.load(file)\n",
    "\n",
    "    with open(\"data/data_new_format/triplets/test_triplets.pkl\", \"rb\") as file:\n",
    "        test_triplets = pickle.load(file)\n",
    "    exists = True"
   ]
  },
  {
   "cell_type": "code",
   "execution_count": 8,
   "id": "02c874bd-fd29-4a4d-b6ab-f7fca3339661",
   "metadata": {
    "tags": []
   },
   "outputs": [],
   "source": [
    "if not exists:\n",
    "    import time\n",
    "    start = time.time()\n",
    "    train_triplets = []\n",
    "    negs_per_pos = 5\n",
    "    for topic in tqdm.tqdm(topics_trainloader):\n",
    "        topic = topic[0]\n",
    "        topic_id = topic['ID']\n",
    "        articles_positive_loader = DataLoader(PMCIterable(labeled_ids_or_filename=labelled_article_ids[topic_id]['POSITIVE'], format='aspire',\n",
    "                                                          transform=DocAbstractToSentenceListTransform()), batch_size=1, collate_fn=lambda x: x)\n",
    "        articles_negative_loader = DataLoader(PMCIterable(labeled_ids_or_filename=labelled_article_ids[topic_id]['NEGATIVE'], format='aspire',\n",
    "                                                          transform=DocAbstractToSentenceListTransform()), batch_size=1, collate_fn=lambda x: x)\n",
    "        iterator = iter(articles_negative_loader)\n",
    "        for pos in articles_positive_loader:\n",
    "            pos = pos[0]\n",
    "            for _ in range(negs_per_pos):\n",
    "                try:\n",
    "                    neg = next(iterator)[0]\n",
    "                    train_triplets.append(\n",
    "                        (topic, pos, neg)\n",
    "                    )\n",
    "                except StopIteration as e:\n",
    "                    break\n",
    "    print(\"Dataset Loadtime: {}\".format(time.time() - start))\n",
    "    print(len(train_triplets))"
   ]
  },
  {
   "cell_type": "code",
   "execution_count": 9,
   "id": "1261be4f-960a-410d-8b92-f30d889a917e",
   "metadata": {
    "tags": []
   },
   "outputs": [],
   "source": [
    "if not exists:\n",
    "    transform_to_sentence_list = DocAbstractToSentenceListTransform()\n",
    "    import time\n",
    "    start = time.time()\n",
    "    test_triplets = []\n",
    "    negs_per_pos = 5\n",
    "    for topic in tqdm.tqdm(topics_testloader):\n",
    "        topic = topic[0]\n",
    "        topic_id = topic['ID']\n",
    "        articles_positive_loader = DataLoader(PMCIterable(labeled_ids_or_filename=labelled_article_ids[topic_id]['POSITIVE'], format='aspire',\n",
    "                                                          transform=DocAbstractToSentenceListTransform()), batch_size=1, collate_fn=lambda x: x)\n",
    "        articles_negative_loader = DataLoader(PMCIterable(labeled_ids_or_filename=labelled_article_ids[topic_id]['NEGATIVE'], format='aspire',\n",
    "                                                          transform=DocAbstractToSentenceListTransform()), batch_size=1, collate_fn=lambda x: x)\n",
    "        iterator = iter(articles_negative_loader)\n",
    "        for pos in articles_positive_loader:\n",
    "            pos = pos[0]\n",
    "            for _ in range(negs_per_pos):\n",
    "                try:\n",
    "                    neg = next(iterator)[0]\n",
    "                    test_triplets.append(\n",
    "                        (topic, pos, neg)\n",
    "                    )\n",
    "                except StopIteration as e:\n",
    "                    break\n",
    "    print(\"Dataset Loadtime: {}\".format(time.time() - start))\n",
    "    print(len(test_triplets))"
   ]
  },
  {
   "cell_type": "code",
   "execution_count": 10,
   "id": "b22fc06b-4f43-4db2-94a1-b61e345a2d16",
   "metadata": {
    "tags": []
   },
   "outputs": [],
   "source": [
    "if not exists:\n",
    "    import pickle\n",
    "    with open(\"data/data_new_format/triplets/train_triplets.pkl\", \"wb\") as file:\n",
    "        pickle.dump(train_triplets, file)\n",
    "\n",
    "    with open(\"data/data_new_format/triplets/test_triplets.pkl\", \"wb\") as file:\n",
    "        pickle.dump(test_triplets, file)\n",
    "    exists = True"
   ]
  },
  {
   "cell_type": "code",
   "execution_count": 11,
   "id": "ddfda122-b176-4f68-b5fd-bb838fd6ed9e",
   "metadata": {
    "tags": []
   },
   "outputs": [],
   "source": [
    "from torch.utils.data import Dataset\n",
    "\n",
    "class TripletsDataset(Dataset):\n",
    "    \"\"\"Triplets Landmarks dataset.\"\"\"\n",
    "\n",
    "    def __init__(self, triplets, transform=None):\n",
    "        self.triplets = triplets\n",
    "        self.transform = transform\n",
    "\n",
    "    def __len__(self):\n",
    "        return len(self.triplets)\n",
    "\n",
    "    def __getitem__(self, idx):\n",
    "        \n",
    "        sample = self.triplets[idx]\n",
    "\n",
    "        if self.transform:\n",
    "            sample = self.transform(sample)\n",
    "\n",
    "        return sample\n",
    "    \n",
    "train_triplets_dataset = TripletsDataset(train_triplets)\n",
    "test_triplets_dataset = TripletsDataset(test_triplets)"
   ]
  },
  {
   "cell_type": "markdown",
   "id": "696ed0f4-5838-4bb2-9664-54eea7c8e46c",
   "metadata": {
    "tags": []
   },
   "source": [
    "# Model Setup"
   ]
  },
  {
   "cell_type": "code",
   "execution_count": 88,
   "id": "823dd229-fa8b-442f-bb69-4b9057fde295",
   "metadata": {
    "tags": []
   },
   "outputs": [],
   "source": [
    "if single_match:\n",
    "    huggingface_model_name = 'allenai/aspire-contextualsentence-singlem-biomed' # single match\n",
    "else:\n",
    "    huggingface_model_name = 'allenai/aspire-contextualsentence-multim-biomed'  # multi match\n",
    "    ot_distance = AllPairMaskedWasserstein({}, device)\n",
    "aspire_tokenizer = AutoTokenizer.from_pretrained(huggingface_model_name, cache_dir=\"/cs/labs/tomhope/taltatal/cache\")\n",
    "aspire_mv_model = AspireConSent(huggingface_model_name, device).to(device)\n",
    "# Empty dict of hyper params will force class to use defaults.\n"
   ]
  },
  {
   "cell_type": "code",
   "execution_count": 216,
   "id": "77ef1ee4-b4ad-46f1-b8f7-a606f7ae14d4",
   "metadata": {
    "tags": []
   },
   "outputs": [],
   "source": [
    "def apply_model(docs, tokenizer, model, device=torch.device(\"cpu\")):\n",
    "    bert_batch, abs_lens, sent_token_idxs = prepare_abstracts(batch_abs=docs,\n",
    "                                                              pt_lm_tokenizer=tokenizer)\n",
    "    # move batch to device, bert_batch is a dict\n",
    "    for k, v in bert_batch.items():\n",
    "        bert_batch[k] = v.to(device) if type(v) == torch.Tensor else v\n",
    "    # abs_lens is a list\n",
    "    abs_lens = torch.tensor(abs_lens, dtype=torch.long, device=device)\n",
    "\n",
    "    clsreps, contextual_sent_reps = model.forward(bert_batch=bert_batch,\n",
    "                                                  abs_lens=abs_lens,\n",
    "                                                  sent_tok_idxs=sent_token_idxs)\n",
    "    return abs_lens, contextual_sent_reps"
   ]
  },
  {
   "cell_type": "code",
   "execution_count": 90,
   "id": "f890f310-be76-4b24-b159-52d59031e2a5",
   "metadata": {
    "tags": []
   },
   "outputs": [],
   "source": [
    "def pad_to_same_size_along_axis(tensor_list, axis=0):\n",
    "    max_size = max([x.shape[axis] for x in tensor_list])\n",
    "    padded_list = []\n",
    "    for tensor in tensor_list:\n",
    "        if tensor.shape[axis] < max_size:\n",
    "            pad_size = max_size - tensor.shape[axis]\n",
    "            padded_list.append(F.pad(input=tensor, pad=(0, 0, 0, pad_size, 0, 0), mode='constant', value=0))\n",
    "        else:\n",
    "            padded_list.append(tensor)\n",
    "    return padded_list"
   ]
  },
  {
   "cell_type": "code",
   "execution_count": 194,
   "id": "0b1c3e1b-db83-49b1-a0d1-3e05ee31c7af",
   "metadata": {
    "tags": []
   },
   "outputs": [],
   "source": [
    "from torch.optim import AdamW\n",
    "margin = 1\n",
    "# Loss = torch.nn.TripletMarginLoss(margin=margin)\n",
    "z = torch.Tensor([0]).to(device)\n",
    "Loss = lambda zero, pos, neg: max(pos - neg + margin, z)\n",
    "\n",
    "# Set hyperparameters\n",
    "batch_size = 1\n",
    "learning_rate = 4e-7\n",
    "num_epochs = 1\n",
    "\n",
    "train_triplets_loader = DataLoader(train_triplets_dataset, batch_size=1, shuffle=True, collate_fn=lambda x: x)\n",
    "test_triplets_loader = DataLoader(test_triplets_dataset, batch_size=1, shuffle=False, collate_fn=lambda x: x)\n",
    "\n",
    "optimizer = AdamW(aspire_mv_model.parameters(), lr=learning_rate)\n",
    "# Fine-Tuning\n",
    "aspire_mv_model.train()\n",
    "pass"
   ]
  },
  {
   "cell_type": "code",
   "execution_count": 195,
   "id": "31f39f35-a430-44cc-8254-d1e2574239a4",
   "metadata": {
    "tags": []
   },
   "outputs": [],
   "source": [
    "def wasserstein_distance(cand_embedding, cand_length, query_embedding, query_length):\n",
    "    qt = rep_len_tup(embed=query_embedding.permute(0, 2, 1), abs_lens=[query_length])\n",
    "    ct = rep_len_tup(embed=cand_embedding.permute(0, 2, 1), abs_lens=[cand_length])\n",
    "    wd, intermediate_items = ot_distance.compute_distance(query=qt, cand=ct, return_pair_sims=True)\n",
    "    return wd, intermediate_items"
   ]
  },
  {
   "cell_type": "code",
   "execution_count": 196,
   "id": "5abb6cfa-8818-4e02-a911-fa5f1b3d5fc3",
   "metadata": {
    "tags": []
   },
   "outputs": [],
   "source": [
    "rep_len_tup = namedtuple('RepLen', ['embed', 'abs_lens'])"
   ]
  },
  {
   "cell_type": "markdown",
   "id": "8f4e4e71-89ff-457d-89c5-92034ba7f2f0",
   "metadata": {},
   "source": [
    "# Training"
   ]
  },
  {
   "cell_type": "code",
   "execution_count": 197,
   "id": "1feba373-20ab-489d-bd2a-bda14cd8d601",
   "metadata": {
    "tags": []
   },
   "outputs": [],
   "source": [
    "os.environ['WANDB_CONFIG_DIR'] = r\"/cs/labs/tomhope/taltatal/cache/wandb\""
   ]
  },
  {
   "cell_type": "code",
   "execution_count": 199,
   "id": "81264c3e-3269-4549-9e32-225201f027fa",
   "metadata": {
    "tags": []
   },
   "outputs": [
    {
     "data": {
      "text/html": [
       "Finishing last run (ID:s1m75s0x) before initializing another..."
      ],
      "text/plain": [
       "<IPython.core.display.HTML object>"
      ]
     },
     "metadata": {},
     "output_type": "display_data"
    },
    {
     "data": {
      "text/html": [
       "Waiting for W&B process to finish... <strong style=\"color:green\">(success).</strong>"
      ],
      "text/plain": [
       "<IPython.core.display.HTML object>"
      ]
     },
     "metadata": {},
     "output_type": "display_data"
    },
    {
     "data": {
      "text/html": [
       "<style>\n",
       "    table.wandb td:nth-child(1) { padding: 0 10px; text-align: left ; width: auto;} td:nth-child(2) {text-align: left ; width: 100%}\n",
       "    .wandb-row { display: flex; flex-direction: row; flex-wrap: wrap; justify-content: flex-start; width: 100% }\n",
       "    .wandb-col { display: flex; flex-direction: column; flex-basis: 100%; flex: 1; padding: 10px; }\n",
       "    </style>\n",
       "<div class=\"wandb-row\"><div class=\"wandb-col\"><h3>Run history:</h3><br/><table class=\"wandb\"><tr><td>index</td><td>▁▁▁▂▂▂▂▂▂▃▃▃▃▃▃▄▄▄▄▄▅▅▅▅▅▅▆▆▆▆▆▇▇▇▇▇▇███</td></tr><tr><td>test_loss</td><td>▅▁▅▅▇▅█▄▅▅▄▃▁▃</td></tr><tr><td>train_loss</td><td>▃▃▆▄▂▆▆▇▃▂▃█▇▅▄▃▃▄▃▆▅▂▂▁▃▂▅▂▇█▁▃▂▆▃▄▂▄▃▂</td></tr></table><br/></div><div class=\"wandb-col\"><h3>Run summary:</h3><br/><table class=\"wandb\"><tr><td>index</td><td>13150</td></tr><tr><td>test_loss</td><td>0.35172</td></tr><tr><td>train_loss</td><td>0.15143</td></tr></table><br/></div></div>"
      ],
      "text/plain": [
       "<IPython.core.display.HTML object>"
      ]
     },
     "metadata": {},
     "output_type": "display_data"
    },
    {
     "data": {
      "text/html": [
       " View run <strong style=\"color:#cdcd00\">dazzling-river-9</strong> at: <a href='https://wandb.ai/tal-getz-42/ResearchProject/runs/s1m75s0x' target=\"_blank\">https://wandb.ai/tal-getz-42/ResearchProject/runs/s1m75s0x</a><br/>Synced 5 W&B file(s), 0 media file(s), 0 artifact file(s) and 0 other file(s)"
      ],
      "text/plain": [
       "<IPython.core.display.HTML object>"
      ]
     },
     "metadata": {},
     "output_type": "display_data"
    },
    {
     "data": {
      "text/html": [
       "Find logs at: <code>./wandb/run-20230712_220819-s1m75s0x/logs</code>"
      ],
      "text/plain": [
       "<IPython.core.display.HTML object>"
      ]
     },
     "metadata": {},
     "output_type": "display_data"
    },
    {
     "data": {
      "text/html": [
       "Successfully finished last run (ID:s1m75s0x). Initializing new run:<br/>"
      ],
      "text/plain": [
       "<IPython.core.display.HTML object>"
      ]
     },
     "metadata": {},
     "output_type": "display_data"
    },
    {
     "data": {
      "application/vnd.jupyter.widget-view+json": {
       "model_id": "5007826495db45e8bfd86f2f8e75c902",
       "version_major": 2,
       "version_minor": 0
      },
      "text/plain": [
       "VBox(children=(Label(value='Waiting for wandb.init()...\\r'), FloatProgress(value=0.016668616398237645, max=1.0…"
      ]
     },
     "metadata": {},
     "output_type": "display_data"
    },
    {
     "data": {
      "text/html": [
       "Tracking run with wandb version 0.15.5"
      ],
      "text/plain": [
       "<IPython.core.display.HTML object>"
      ]
     },
     "metadata": {},
     "output_type": "display_data"
    },
    {
     "data": {
      "text/html": [
       "Run data is saved locally in <code>/cs/labs/tomhope/taltatal/aspire/wandb/run-20230713_112454-sm2gruur</code>"
      ],
      "text/plain": [
       "<IPython.core.display.HTML object>"
      ]
     },
     "metadata": {},
     "output_type": "display_data"
    },
    {
     "data": {
      "text/html": [
       "Syncing run <strong><a href='https://wandb.ai/tal-getz-42/ResearchProject/runs/sm2gruur' target=\"_blank\">dandy-haze-10</a></strong> to <a href='https://wandb.ai/tal-getz-42/ResearchProject' target=\"_blank\">Weights & Biases</a> (<a href='https://wandb.me/run' target=\"_blank\">docs</a>)<br/>"
      ],
      "text/plain": [
       "<IPython.core.display.HTML object>"
      ]
     },
     "metadata": {},
     "output_type": "display_data"
    },
    {
     "data": {
      "text/html": [
       " View project at <a href='https://wandb.ai/tal-getz-42/ResearchProject' target=\"_blank\">https://wandb.ai/tal-getz-42/ResearchProject</a>"
      ],
      "text/plain": [
       "<IPython.core.display.HTML object>"
      ]
     },
     "metadata": {},
     "output_type": "display_data"
    },
    {
     "data": {
      "text/html": [
       " View run at <a href='https://wandb.ai/tal-getz-42/ResearchProject/runs/sm2gruur' target=\"_blank\">https://wandb.ai/tal-getz-42/ResearchProject/runs/sm2gruur</a>"
      ],
      "text/plain": [
       "<IPython.core.display.HTML object>"
      ]
     },
     "metadata": {},
     "output_type": "display_data"
    },
    {
     "data": {
      "text/html": [
       "<button onClick=\"this.nextSibling.style.display='block';this.style.display='none';\">Display W&B run</button><iframe src='https://wandb.ai/tal-getz-42/ResearchProject/runs/sm2gruur?jupyter=true' style='border:none;width:100%;height:420px;display:none;'></iframe>"
      ],
      "text/plain": [
       "<wandb.sdk.wandb_run.Run at 0x7f7a4ddd1280>"
      ]
     },
     "execution_count": 199,
     "metadata": {},
     "output_type": "execute_result"
    }
   ],
   "source": [
    "import wandb\n",
    "wandb.init(\n",
    "    # set the wandb project where this run will be logged\n",
    "    project=\"ResearchProject\",\n",
    "    \n",
    "    # track hyperparameters and run metadata\n",
    "    config={\n",
    "    \"learning_rate\": learning_rate,\n",
    "    \"architecture\": \"MultiMatch\",\n",
    "    \"epochs\": 2,\n",
    "    \"margin\": margin,\n",
    "    }\n",
    ")"
   ]
  },
  {
   "cell_type": "code",
   "execution_count": 200,
   "id": "110b5508-277a-447d-b42e-cfaffb5207eb",
   "metadata": {
    "tags": []
   },
   "outputs": [],
   "source": [
    "anchor = torch.tensor([0]).to(device)"
   ]
  },
  {
   "cell_type": "code",
   "execution_count": null,
   "id": "dda01d94-7251-41d3-8249-7ebdda8f70de",
   "metadata": {
    "tags": []
   },
   "outputs": [
    {
     "name": "stderr",
     "output_type": "stream",
     "text": [
      " 76%|███████▌  | 10026/13199 [31:10<07:48,  6.78it/s]   "
     ]
    }
   ],
   "source": [
    "for epoch in range(num_epochs):\n",
    "    total_loss = 0\n",
    "    for i, batch in enumerate(tqdm.tqdm(train_triplets_loader)):\n",
    "        \n",
    "        # TESTING:\n",
    "        period_between_train_logs = 50\n",
    "        if i % period_between_train_logs == 0:\n",
    "            avg_train_loss = total_loss / period_between_train_logs\n",
    "            total_loss = 0\n",
    "            wandb.log({\"train_loss\": avg_train_loss, \"index\": i})\n",
    "        \n",
    "        period_between_tests = 1000\n",
    "        if i % period_between_tests == 0:\n",
    "            \n",
    "            with torch.no_grad():\n",
    "                aspire_mv_model.eval()\n",
    "                total_test_loss = 0\n",
    "                test_set_length = 400\n",
    "                de_facto_length = test_set_length\n",
    "                for j, test_batch in enumerate(test_triplets_loader):\n",
    "                    if j == test_set_length:\n",
    "                        break\n",
    "                        \n",
    "                    skip = False\n",
    "                    for doc in test_batch[0]:\n",
    "                        if len(doc['ABSTRACT']) == 0:\n",
    "                            skip = True\n",
    "                    if skip:\n",
    "                        de_facto_length -= 1\n",
    "                        continue\n",
    "                        \n",
    "                    batch_abs_lens, batch_embedding = apply_model(test_batch[0], aspire_tokenizer, aspire_mv_model)\n",
    "                    cand_embeds = batch_embedding[0][None, :, :]\n",
    "                    positive_query_embeds = batch_embedding[1][None, :, :]\n",
    "                    negative_query_embeds = batch_embedding[2][None, :, :]\n",
    "                    cand_length = batch_abs_lens[0]\n",
    "                    positive_query_length = batch_abs_lens[1]\n",
    "                    negative_query_length = batch_abs_lens[2]\n",
    "\n",
    "                    wd_pos, intermediate_items_pos = wasserstein_distance(cand_embeds, cand_length, positive_query_embeds, positive_query_length)\n",
    "                    wd_neg, intermediate_items_neg = wasserstein_distance(cand_embeds, cand_length, negative_query_embeds, negative_query_length)\n",
    "                    wd_pos = -wd_pos\n",
    "                    wd_neg = -wd_neg\n",
    "                    \n",
    "                    loss = Loss(anchor, wd_pos, wd_neg)\n",
    "                    # loss = -wd_pos + wd_neg\n",
    "                    # print(loss)\n",
    "                    total_test_loss += loss.item()\n",
    "                avg_test_loss = (total_test_loss / test_set_length)\n",
    "                \n",
    "                aspire_mv_model.train()\n",
    "                \n",
    "            wandb.log({\"test_loss\": avg_test_loss, \"index\": i})\n",
    "\n",
    "        \n",
    "        skip = False\n",
    "        for doc in batch[0]:\n",
    "            if len(doc['ABSTRACT']) == 0:\n",
    "                skip = True\n",
    "        if skip:\n",
    "            continue\n",
    "        \n",
    "        # TRAINING:\n",
    "        aspire_mv_model.zero_grad()\n",
    "        \n",
    "        batch_abs_lens, batch_embedding = apply_model(batch[0], aspire_tokenizer, aspire_mv_model)\n",
    "        cand_embeds = batch_embedding[0][None, :, :]\n",
    "        positive_query_embeds = batch_embedding[1][None, :, :]\n",
    "        negative_query_embeds = batch_embedding[2][None, :, :]\n",
    "        cand_length = batch_abs_lens[0]\n",
    "        positive_query_length = batch_abs_lens[1]\n",
    "        negative_query_length = batch_abs_lens[2]\n",
    "        \n",
    "        wd_pos, intermediate_items_pos = wasserstein_distance(cand_embeds, cand_length, positive_query_embeds, positive_query_length)\n",
    "        wd_neg, intermediate_items_neg = wasserstein_distance(cand_embeds, cand_length, negative_query_embeds, negative_query_length)\n",
    "        wd_pos = -wd_pos\n",
    "        wd_neg = -wd_neg\n",
    "        loss = Loss(anchor, wd_pos, wd_neg)\n",
    "        if loss.item() != 0:\n",
    "            total_loss += loss.item()\n",
    "\n",
    "            loss.backward()\n",
    "            optimizer.step()\n",
    "    \n",
    "    # avg_loss = total_loss / len(train_triplets_loader)\n",
    "    # print(f\"Fine Tuning Epoch {epoch+1}/{num_epochs}, Loss: {avg_loss}\")"
   ]
  },
  {
   "cell_type": "code",
   "execution_count": 110,
   "id": "80848fb7-37ce-481a-a87b-880c4b00d9a5",
   "metadata": {
    "tags": []
   },
   "outputs": [
    {
     "data": {
      "text/html": [
       "Waiting for W&B process to finish... <strong style=\"color:green\">(success).</strong>"
      ],
      "text/plain": [
       "<IPython.core.display.HTML object>"
      ]
     },
     "metadata": {},
     "output_type": "display_data"
    },
    {
     "data": {
      "text/html": [
       "<style>\n",
       "    table.wandb td:nth-child(1) { padding: 0 10px; text-align: left ; width: auto;} td:nth-child(2) {text-align: left ; width: 100%}\n",
       "    .wandb-row { display: flex; flex-direction: row; flex-wrap: wrap; justify-content: flex-start; width: 100% }\n",
       "    .wandb-col { display: flex; flex-direction: column; flex-basis: 100%; flex: 1; padding: 10px; }\n",
       "    </style>\n",
       "<div class=\"wandb-row\"><div class=\"wandb-col\"><h3>Run history:</h3><br/><table class=\"wandb\"><tr><td>index</td><td>▁▁▁▂▂▂▂▂▂▃▃▃▃▃▃▄▄▄▄▄▅▅▅▅▅▅▆▆▆▆▆▇▇▇▇▇▇███</td></tr><tr><td>test_loss</td><td>█▅▃▃▄▄▄▂▂▂▃▃▂▁</td></tr><tr><td>train_loss</td><td>█▅▅▅▅▄▅▃▃▄▃▃▃▃▃▂▆▂▃▂▄▂▄▃▂▂▅▂▃▃▂▃▃▂▂▁▂▃▃▂</td></tr></table><br/></div><div class=\"wandb-col\"><h3>Run summary:</h3><br/><table class=\"wandb\"><tr><td>index</td><td>13150</td></tr><tr><td>test_loss</td><td>0.35794</td></tr><tr><td>train_loss</td><td>0.26158</td></tr></table><br/></div></div>"
      ],
      "text/plain": [
       "<IPython.core.display.HTML object>"
      ]
     },
     "metadata": {},
     "output_type": "display_data"
    },
    {
     "data": {
      "text/html": [
       " View run <strong style=\"color:#cdcd00\">classic-monkey-8</strong> at: <a href='https://wandb.ai/tal-getz-42/ResearchProject/runs/kttbwx8i' target=\"_blank\">https://wandb.ai/tal-getz-42/ResearchProject/runs/kttbwx8i</a><br/>Synced 5 W&B file(s), 0 media file(s), 0 artifact file(s) and 0 other file(s)"
      ],
      "text/plain": [
       "<IPython.core.display.HTML object>"
      ]
     },
     "metadata": {},
     "output_type": "display_data"
    },
    {
     "data": {
      "text/html": [
       "Find logs at: <code>./wandb/run-20230712_172433-kttbwx8i/logs</code>"
      ],
      "text/plain": [
       "<IPython.core.display.HTML object>"
      ]
     },
     "metadata": {},
     "output_type": "display_data"
    }
   ],
   "source": [
    "wandb.finish()"
   ]
  },
  {
   "cell_type": "markdown",
   "id": "d982e554-b920-43e0-84fc-f07bdcb9bcfe",
   "metadata": {
    "tags": []
   },
   "source": [
    "# Ranking"
   ]
  },
  {
   "cell_type": "markdown",
   "id": "6c5ed6e9-a906-4b09-9206-1c9037a4687f",
   "metadata": {},
   "source": [
    "## With Reranker"
   ]
  },
  {
   "cell_type": "code",
   "execution_count": 202,
   "id": "9bf6f348-b263-4936-bd62-bfdca92a46e6",
   "metadata": {
    "tags": []
   },
   "outputs": [],
   "source": [
    "import os\n",
    "import pickle\n",
    "\n",
    "folder_path = \"data/data_old_format/reranker_out/\"\n",
    "\n",
    "reranker_rankings_dict = {}\n",
    "\n",
    "for file_name in os.listdir(folder_path):\n",
    "    if file_name.endswith(\".pkl\"):\n",
    "        file_path = os.path.join(folder_path, file_name)\n",
    "        base_name = os.path.splitext(file_name)[0]\n",
    "        with open(file_path, \"rb\") as file:\n",
    "            data = pickle.load(file)\n",
    "            reranker_rankings_dict[base_name] = data"
   ]
  },
  {
   "cell_type": "code",
   "execution_count": 203,
   "id": "c58486ef-21ba-41eb-8690-7c23607d5ebc",
   "metadata": {
    "tags": []
   },
   "outputs": [],
   "source": [
    "article_ids_per_topic = {topic_id:[article_id for article_id,rank in rankings] for topic_id,rankings in reranker_rankings_dict.items()}"
   ]
  },
  {
   "cell_type": "code",
   "execution_count": null,
   "id": "7b2c68d6-2c9a-4f6d-82fb-b7a855a74fc1",
   "metadata": {
    "tags": []
   },
   "outputs": [],
   "source": [
    "aspire_mv_model.eval()\n",
    "pass"
   ]
  },
  {
   "cell_type": "code",
   "execution_count": 205,
   "id": "11f42068-ee55-45f8-8521-9d9a0d4cbb1a",
   "metadata": {
    "tags": []
   },
   "outputs": [
    {
     "name": "stderr",
     "output_type": "stream",
     "text": [
      "100%|██████████| 6/6 [00:00<00:00, 29.89it/s]\n"
     ]
    }
   ],
   "source": [
    "topic_embeddings = []\n",
    "topic_abs_lens = []\n",
    "for topic_batch in tqdm.tqdm(topics_dataloader):\n",
    "    # move topic_batch to device, but avoid non tensors. its a list of dicts\n",
    "    topic_batch = [{k: v.to(device) if torch.is_tensor(v) else v for k, v in x.items()} for x in topic_batch]\n",
    "\n",
    "    abs_lens, topic_embedding = apply_model(topic_batch, aspire_tokenizer, aspire_mv_model)\n",
    "    \n",
    "    topic_embeddings.append(topic_embedding)\n",
    "    topic_abs_lens.append(abs_lens)\n",
    "topic_embeddings = pad_to_same_size_along_axis(topic_embeddings, axis=1)\n",
    "topic_embeddings_tensor = torch.cat(topic_embeddings, dim=0)"
   ]
  },
  {
   "cell_type": "code",
   "execution_count": 206,
   "id": "58ff9d7c-ba16-4ad8-bbb6-b7c166ddd309",
   "metadata": {
    "tags": []
   },
   "outputs": [
    {
     "name": "stderr",
     "output_type": "stream",
     "text": [
      "100%|██████████| 1000/1000 [00:49<00:00, 20.13it/s]\n",
      "100%|██████████| 1000/1000 [00:51<00:00, 19.35it/s]\n",
      "100%|██████████| 1000/1000 [00:52<00:00, 19.02it/s]\n",
      "100%|██████████| 1000/1000 [00:50<00:00, 19.93it/s]\n",
      "100%|██████████| 1000/1000 [00:51<00:00, 19.48it/s]\n",
      "100%|██████████| 1000/1000 [00:50<00:00, 19.72it/s]\n"
     ]
    }
   ],
   "source": [
    "rags = {x[0]['ID']: list() for x in topics_dataloader}\n",
    "for i in range(len(topic_embeddings)):\n",
    "    for article_batch in tqdm.tqdm(DataLoader(PMCIterable(labeled_ids_or_filename=article_ids_per_topic[topics_dataloader[i][0]['ID']], format='aspire',\n",
    "                                                          transform=DocAbstractToSentenceListTransform()), batch_size=1,\n",
    "                                              collate_fn=lambda x: x)):\n",
    "        with torch.no_grad():\n",
    "            if len(article_batch[0]['ABSTRACT']) == 0:\n",
    "                continue\n",
    "            article_abs_lens, article_embedding = apply_model(article_batch, aspire_tokenizer, aspire_mv_model)\n",
    "            query_embeds = article_embedding\n",
    "\n",
    "            if single_match:\n",
    "                distance_matrix = torch.squeeze(torch.cdist(topic_embeddings[i], query_embeds, p=2.0), 0)\n",
    "                argmax = torch.argmin(distance_matrix)\n",
    "                indices = torch.stack([argmax // distance_matrix.shape[1], argmax % distance_matrix.shape[1]], -1)\n",
    "                rankings[topics_dataloader[i][0]['ID']].append((article_batch[0]['ID'], distance_matrix[indices[0], indices[1]].to('cpu').numpy()))\n",
    "\n",
    "            else:\n",
    "                cand_embeds = topic_embeddings[i]\n",
    "                rep_len_tup = namedtuple('RepLen', ['embed', 'abs_lens'])\n",
    "                qt = rep_len_tup(embed=query_embeds.permute(0, 2, 1), abs_lens=[article_abs_lens[0]])\n",
    "                ct = rep_len_tup(embed=cand_embeds.permute(0, 2, 1), abs_lens=[topic_abs_lens[i][0]])\n",
    "                wd, intermediate_items = ot_distance.compute_distance(query=qt, cand=ct, return_pair_sims=True)\n",
    "                rankings[topics_dataloader[i][0]['ID']].append((article_batch[0]['ID'], -1*(wd.to('cpu').detach().numpy().item())))\n",
    "\n"
   ]
  },
  {
   "cell_type": "code",
   "execution_count": 207,
   "id": "a5396e17-8de5-4353-aac2-2012a9dc8d04",
   "metadata": {
    "tags": []
   },
   "outputs": [
    {
     "name": "stderr",
     "output_type": "stream",
     "text": [
      "100%|██████████| 6/6 [00:00<00:00, 199.61it/s]\n"
     ]
    }
   ],
   "source": [
    "import pickle\n",
    "import os\n",
    "\n",
    "folder_path = \"data/data_new_format/pretrained_aspire_with_reranker_multimatch_V3/\"\n",
    "\n",
    "if not os.path.exists(folder_path):\n",
    "    os.makedirs(folder_path)\n",
    "\n",
    "for k in tqdm.tqdm(rankings.keys()):\n",
    "    # rankings[k] = [(_id, rank.to('cpu').numpy().item()) for _id, rank in rankings[k]]\n",
    "    rankings[k].sort(key=lambda x: x[1])\n",
    "    pickle.dump(rankings[k], open(os.path.join(folder_path, '{}.pkl'.format(k)), 'wb'))"
   ]
  },
  {
   "cell_type": "markdown",
   "id": "cd30bc95-fc5c-4f43-8b0c-61af034c9fcc",
   "metadata": {
    "tags": []
   },
   "source": [
    "## Without Reranker"
   ]
  },
  {
   "cell_type": "code",
   "execution_count": null,
   "id": "7fb5d344-8f01-4016-9b58-0f1d8d0e7585",
   "metadata": {},
   "outputs": [],
   "source": [
    "aspire_mv_model.eval()"
   ]
  },
  {
   "cell_type": "code",
   "execution_count": 104,
   "id": "bef9c565-32b6-4a5e-a65e-531bf093f156",
   "metadata": {
    "tags": []
   },
   "outputs": [
    {
     "name": "stderr",
     "output_type": "stream",
     "text": [
      "100%|██████████| 6/6 [00:00<00:00, 31.57it/s]\n"
     ]
    }
   ],
   "source": [
    "pmc_ids = pickle.load(open('data/data_old_format/pmc_ids.pkl', 'rb'))\n",
    "\n",
    "topics_dataloader = DataLoader(TopicIterable(format='aspire', topic_file_name='data/data_old_format/topics.pkl',\n",
    "                                             transform=DocAbstractToSentenceListTransform(), test=True), batch_size=1,\n",
    "                               collate_fn=lambda x: x)\n",
    "\n",
    "topics_dataloader = sorted([x for x in topics_dataloader], key=lambda x: int(x[0]['ID']))\n",
    "topic_embeddings = []\n",
    "topic_abs_lens = []\n",
    "for topic_batch in tqdm.tqdm(topics_dataloader):\n",
    "    # move topic_batch to device, but avoid non tensors. its a list of dicts\n",
    "    topic_batch = [{k: v.to(device) if torch.is_tensor(v) else v for k, v in x.items()} for x in topic_batch]\n",
    "\n",
    "    abs_lens, topic_embedding = apply_model(topic_batch, aspire_tokenizer, aspire_mv_model)\n",
    "    \n",
    "    topic_embeddings.append(topic_embedding)\n",
    "    topic_abs_lens.append(abs_lens)\n",
    "topic_embeddings = pad_to_same_size_along_axis(topic_embeddings, axis=1)\n",
    "topic_embeddings_tensor = torch.cat(topic_embeddings, dim=0)"
   ]
  },
  {
   "cell_type": "code",
   "execution_count": 105,
   "id": "0da0c593-2087-4f30-a1e6-2f8f0f4c4657",
   "metadata": {
    "tags": []
   },
   "outputs": [
    {
     "data": {
      "text/plain": [
       "37707"
      ]
     },
     "execution_count": 105,
     "metadata": {},
     "output_type": "execute_result"
    }
   ],
   "source": [
    "len(pmc_ids)"
   ]
  },
  {
   "cell_type": "code",
   "execution_count": 106,
   "id": "34fa0946-8252-4c71-a6be-97d889d360ed",
   "metadata": {
    "tags": []
   },
   "outputs": [
    {
     "name": "stderr",
     "output_type": "stream",
     "text": [
      " 75%|███████▌  | 28349/37707 [1:28:38<29:15,  5.33it/s]  \n"
     ]
    }
   ],
   "source": [
    "rankings = {x[0]['ID']: list() for x in topics_dataloader}\n",
    "for article_batch in tqdm.tqdm(DataLoader(PMCIterable(labeled_ids_or_filename=pmc_ids, format='aspire',\n",
    "                                                      transform=DocAbstractToSentenceListTransform()), batch_size=1,\n",
    "                                          collate_fn=lambda x: x)):\n",
    "    with torch.no_grad():\n",
    "        if len(article_batch[0]['ABSTRACT']) == 0:\n",
    "            continue\n",
    "        article_abs_lens, article_embedding = apply_model(article_batch, aspire_tokenizer, aspire_mv_model)\n",
    "        query_embeds = article_embedding\n",
    "        \n",
    "        if single_match:\n",
    "            for topic_abs_len, topic_embedding, i in zip(topic_abs_lens, topic_embeddings, range(len(topic_abs_lens))):\n",
    "                distance_matrix = torch.squeeze(torch.cdist(topic_embedding, query_embeds, p=2.0), 0)\n",
    "                argmax = torch.argmin(distance_matrix)\n",
    "                indices = torch.stack([argmax // distance_matrix.shape[1], argmax % distance_matrix.shape[1]], -1)\n",
    "                rankings[topics_dataloader[i][0]['ID']].append((article_batch[0]['ID'], distance_matrix[indices[0], indices[1]].to('cpu').numpy()))\n",
    "            \n",
    "        else:\n",
    "            for topic_abs_len, topic_embedding, i in zip(topic_abs_lens, topic_embeddings, range(len(topic_abs_lens))):\n",
    "                cand_embeds = topic_embedding\n",
    "                rep_len_tup = namedtuple('RepLen', ['embed', 'abs_lens'])\n",
    "                qt = rep_len_tup(embed=query_embeds.permute(0, 2, 1), abs_lens=[article_abs_lens[0]])\n",
    "                ct = rep_len_tup(embed=cand_embeds.permute(0, 2, 1), abs_lens=[topic_abs_len[0]])\n",
    "                wd, intermediate_items = ot_distance.compute_distance(query=qt, cand=ct, return_pair_sims=True)\n",
    "                rankings[topics_dataloader[i][0]['ID']].append((article_batch[0]['ID'], -1*(wd.to('cpu').detach().numpy().item())))\n"
   ]
  },
  {
   "cell_type": "code",
   "execution_count": 108,
   "id": "31236952-e00a-4ba5-a922-9fdc7ccddfff",
   "metadata": {
    "tags": []
   },
   "outputs": [
    {
     "name": "stderr",
     "output_type": "stream",
     "text": [
      "100%|██████████| 6/6 [00:00<00:00, 25.59it/s]\n"
     ]
    }
   ],
   "source": [
    "folder_path = \"data/data_new_format/pretrained_aspire_only/\"\n",
    "\n",
    "if not os.path.exists(folder_path):\n",
    "    os.makedirs(folder_path)\n",
    "\n",
    "for k in tqdm.tqdm(rankings.keys()):\n",
    "    # rankings[k] = [(_id, rank.to('cpu').numpy().item()) for _id, rank in rankings[k]]\n",
    "    rankings[k].sort(key=lambda x: x[1])\n",
    "    pickle.dump(rankings[k], open(os.path.join(folder_path, '{}.pkl'.format(k)), 'wb'))"
   ]
  },
  {
   "cell_type": "markdown",
   "id": "e75a960f-aeaa-48bf-8424-7b0714fbd685",
   "metadata": {
    "tags": []
   },
   "source": [
    "# Transport Plan Matrix"
   ]
  },
  {
   "cell_type": "code",
   "execution_count": 220,
   "id": "e3f64532-1e9b-41ea-9530-74d25d8d3fbf",
   "metadata": {
    "tags": []
   },
   "outputs": [],
   "source": [
    "test_batch = test_triplets_dataset[1000]"
   ]
  },
  {
   "cell_type": "code",
   "execution_count": 221,
   "id": "1234556e-c2cf-4799-90a1-755251fba3b8",
   "metadata": {
    "tags": []
   },
   "outputs": [],
   "source": [
    "batch_abs_lens, batch_embedding = apply_model(test_batch, aspire_tokenizer, aspire_mv_model)\n",
    "cand_embeds = batch_embedding[0][None, :, :]\n",
    "positive_query_embeds = batch_embedding[1][None, :, :]\n",
    "negative_query_embeds = batch_embedding[2][None, :, :]\n",
    "cand_length = batch_abs_lens[0]\n",
    "positive_query_length = batch_abs_lens[1]\n",
    "negative_query_length = batch_abs_lens[2]\n",
    "\n",
    "wd_pos, intermediate_items_pos = wasserstein_distance(cand_embeds, cand_length, positive_query_embeds, positive_query_length)\n",
    "wd_neg, intermediate_items_neg = wasserstein_distance(cand_embeds, cand_length, negative_query_embeds, negative_query_length)"
   ]
  },
  {
   "cell_type": "code",
   "execution_count": 222,
   "id": "4f942e98-76ea-4503-a61e-87ade5126e8d",
   "metadata": {
    "tags": []
   },
   "outputs": [
    {
     "name": "stdout",
     "output_type": "stream",
     "text": [
      "0: Ms. [**Known patient lastname **] is a G2P0010 26 yo F, now estimated to 10 weeks pregnant.\n",
      "1: Pt has 4yr hx of IDDM.\n",
      "2: LMP is not known but was sometime in [**Month (only) **].\n",
      "3: On [**3243-11-10**], the patient began feeling achy and congested.\n",
      "4: She\n",
      "   had received a flu shot about 1 week prior.\n",
      "5: She continued to\n",
      "   feel poorly on [**3243-11-11**], and developed hyperemesis.\n",
      "6: She was seen\n",
      "   in the ED (but not admitted) at [**Hospital3 **], where she was\n",
      "   given IVF, Reglan and Tylenol and she was found to have a\n",
      "   positive pregnancy test.\n",
      "7: Today, she returned to the ED\n",
      "   with worsening of symptoms.\n",
      "8: She was admitted to the OB service\n",
      "   and given IVF and Reglan.\n",
      "9: Of note, her labwork \n",
      "   demonstrates a blood glucose of 160, bicarbonate of 11, beta-hCG\n",
      "   of 3373 and ketones in her urine.\n",
      "10: Her family noted\n",
      "   that she was breathing rapidly and was quite somnolent.\n",
      "11: She appears to be in respiratory distress.\n",
      "12: .\n",
      "13: The falling beta-HCG and trans-abdominal ultrasound indicate\n",
      "   intra-uterine fetal demise.\n",
      "14: Medications on Admission:\n",
      "   Lantus 65 units qAM\n",
      "   Novolog SSI\n",
      "   Cortef 3mg qAM, 1mg qHS\n",
      "   .\n",
      "15: Meds on Transfer:\n",
      "   Levophed\n",
      "   Dopamine\n",
      "   Solumedrol 80mg IV\n",
      "   Amiodarone load\n",
      "   Insulin in D10\n",
      "\n",
      "0: Background\n",
      "The incidence of severe maternal morbidity is increasing in high-income countries as a consequence, in part, of increased obstetric intervention and increasingly complex medical needs of women who become pregnant.\n",
      "1: Access to emergency obstetric care means that for the majority of women in these countries, an experience of severe maternal morbidity is unlikely to result in loss of life.\n",
      "2: However, little is known about the subsequent impact on postnatal psychological health resulting in an evidence gap to support provision of appropriate care for these women.\n",
      "3: There has recently been increasing recognition that childbirth can be a cause of post-traumatic stress disorder (PTSD).\n",
      "4: The combination of experiencing a life-threatening complication and its management may culminate in psychological trauma.\n",
      "5: This systematic review examined the association between women’s experience of severe maternal morbidity during labour, at the time of giving birth or within the first week following birth, and PTSD and its symptoms.\n",
      "6: Methods\n",
      "Relevant literature was identified through multiple databases, including MEDLINE, PsycINFO, EMBASE, CINAHL, British Nursing Index, Web of Science, Cochrane library and the British Library, using predetermined search strategies.\n",
      "7: The search terms included \"post-traumatic stress disorder\", \"PTSD\", \"stress disorders, post-traumatic\", \"maternal morbidity\", “pregnancy complications” “puerperal disorders”, \"obstetric labo(u)r complication\", \"postpartum h(a)emorrhage\", \"eclampsia”.\n",
      "8: Studies identified were categorised according to pre-defined inclusion and exclusion criteria.\n",
      "9: The quality of included studies was assessed using the relevant CASP appraisal tools.\n",
      "10: Results\n",
      "Eleven primary studies met review criteria.\n",
      "11: Evidence of a relationship between severe maternal morbidity and PTSD/PTSD symptoms was inconsistent and findings varied between studies.\n",
      "12: Nevertheless, there is some evidence that severe pre-eclampsia is a risk factor for PTSD and its symptoms, an association possibly mediated by other factors such as fetal/neonatal condition.\n",
      "13: Conclusions\n",
      "Despite the absence of robust evidence regarding the relationship between severe maternal morbidity and PTSD/PTSD symptoms, it is crucially important that clinicians and policy makers are aware of a potential higher risk of PTSD among women who experience severe morbidity.\n",
      "14: Further studies are now needed to confirm this risk as well as to understand underlying mechanisms in order to minimise the longer term psychiatric impact of severe maternal morbidity.\n"
     ]
    },
    {
     "data": {
      "image/png": "[encoded data removed]",
      "text/plain": [
       "<Figure size 842.4x595.44 with 2 Axes>"
      ]
     },
     "metadata": {},
     "output_type": "display_data"
    }
   ],
   "source": [
    "from matplotlib import pyplot as plt\n",
    "import seaborn as sns\n",
    "sns.set(rc={'figure.figsize':(11.7,8.27)})\n",
    "sns.set(font_scale=2)\n",
    "transport_plan = intermediate_items_pos[3].cpu().data.numpy()[0,:positive_query_length,:cand_length]\n",
    "\n",
    "# Print the sentences and plot the optimal transport plan for the pair of abstracts.\n",
    "print('\\n'.join([f'{i}: {s}' for i, s in enumerate(test_batch[0]['ABSTRACT'][:cand_length])]))\n",
    "print('')\n",
    "print('\\n'.join([f'{i}: {s}' for i, s in enumerate(test_batch[1]['ABSTRACT'][:positive_query_length])]))\n",
    "\n",
    "h = sns.heatmap(transport_plan, linewidths=.7, cmap='Blues')\n",
    "h.set(xlabel='Electronic Health Record', ylabel='Article')\n",
    "h.tick_params(labelsize=10)"
   ]
  },
  {
   "cell_type": "markdown",
   "id": "418bc00f-c172-42e2-ba61-8134de3e8ec4",
   "metadata": {
    "tags": []
   },
   "source": [
    "# Saving the model"
   ]
  },
  {
   "cell_type": "code",
   "execution_count": 211,
   "id": "151814fb-0586-4cb0-bce8-52d7c212ed37",
   "metadata": {
    "tags": []
   },
   "outputs": [],
   "source": [
    "save_path = r\"/cs/labs/tomhope/taltatal/aspire/models/{}\"\n",
    "model_name = r\"tal-aspire-contextualsentence-multim-biomed-finetuned-train-only-cds2016-V3\"\n",
    "torch.save(aspire_mv_model.state_dict(), save_path.format(model_name))"
   ]
  },
  {
   "cell_type": "markdown",
   "id": "1e851058-deef-44e9-bd25-f895b8e7f92a",
   "metadata": {
    "tags": []
   },
   "source": [
    "# Loading the model"
   ]
  },
  {
   "cell_type": "code",
   "execution_count": 212,
   "id": "b72b99f3-ecf2-4e63-9051-e1e9928cbf4c",
   "metadata": {},
   "outputs": [
    {
     "data": {
      "text/plain": [
       "<All keys matched successfully>"
      ]
     },
     "execution_count": 212,
     "metadata": {},
     "output_type": "execute_result"
    }
   ],
   "source": [
    "save_path = r\"/cs/labs/tomhope/taltatal/aspire/models/{}\"\n",
    "model_name = r\"tal-aspire-contextualsentence-multim-biomed-finetuned-train-only-cds2016-V1\"\n",
    "aspire_mv_model.load_state_dict(torch.load(save_path.format(model_name)))"
   ]
  }
 ],
 "metadata": {
  "kernelspec": {
   "display_name": "Python 3",
   "language": "python",
   "name": "python3"
  },
  "language_info": {
   "codemirror_mode": {
    "name": "ipython",
    "version": 3
   },
   "file_extension": ".py",
   "mimetype": "text/x-python",
   "name": "python",
   "nbconvert_exporter": "python",
   "pygments_lexer": "ipython3",
   "version": "3.8.16"
  }
 },
 "nbformat": 4,
 "nbformat_minor": 5
}
